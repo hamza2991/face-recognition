{
 "cells": [
  {
   "cell_type": "code",
   "execution_count": 1,
   "id": "28217a65-01e2-4c3e-8d8c-ff1a8f2feb2a",
   "metadata": {},
   "outputs": [],
   "source": [
    "import cv2\n",
    "\n",
    "# Load the cascade\n",
    "face_cascade = cv2.CascadeClassifier(\"haarcascade_frontalface_default.xml\")\n",
    "\n",
    "# Start the webcam\n",
    "cap = cv2.VideoCapture(0)\n",
    "\n",
    "while True:\n",
    "    # Read the frame\n",
    "    _, img = cap.read()\n",
    "\n",
    "    # Convert into grayscale\n",
    "    gray = cv2.cvtColor(img, cv2.COLOR_BGR2GRAY)\n",
    "\n",
    "    # Detect faces\n",
    "    faces = face_cascade.detectMultiScale(gray, scaleFactor=1.1, minNeighbors=5)\n",
    "\n",
    "    # Draw rectangle around the faces\n",
    "    for (x, y, w, h) in faces:\n",
    "        cv2.rectangle(img, (x, y), (x+w, y+h), (255, 0, 0), 2)\n",
    "\n",
    "    # Display the output\n",
    "    cv2.imshow(\"Webcam\", img)\n",
    "\n",
    "    # Stop if 'q' is pressed\n",
    "    if cv2.waitKey(1) & 0xFF == ord('q'):\n",
    "        break\n",
    "\n",
    "# Release the webcam\n",
    "cap.release()\n",
    "\n",
    "# Close all the windows\n",
    "cv2.destroyAllWindows()\n"
   ]
  },
  {
   "cell_type": "code",
   "execution_count": null,
   "id": "38de135a-af82-40e7-9a3e-2dec8b2e4bd8",
   "metadata": {},
   "outputs": [],
   "source": [
    "import face_recognition\n",
    "\n",
    "# Load an image of yourself\n",
    "image_of_me = face_recognition.load_image_file(\"me.jpg\")\n",
    "\n",
    "# Encode the image of yourself to create a 128-dimensional feature vector\n",
    "my_face_encoding = face_recognition.face_encodings(image_of_me)[0]\n",
    "\n",
    "# Create an array of encodings and names\n",
    "known_face_encodings = [my_face_encoding]\n",
    "known_face_names = [\"Me\"]\n",
    "\n",
    "# Load an image of an unknown person\n",
    "unknown_image = face_recognition.load_image_file(\"unknown.jpg\")\n",
    "\n",
    "# Encode the unknown image\n",
    "unknown_face_encoding = face_recognition.face_encodings(unknown_image)[0]\n",
    "\n",
    "# Compare the encoding of the unknown image to the encodings in the array\n",
    "results = face_recognition.compare_faces(known_face_encodings, unknown_face_encoding)\n",
    "\n",
    "# If a match is found\n",
    "if results[0]:\n",
    "    name = \"Me\"\n",
    "else:\n",
    "    name = \"Unknown\"\n",
    "\n",
    "print(f\"This person is {name}.\")\n"
   ]
  }
 ],
 "metadata": {
  "kernelspec": {
   "display_name": "Python 3 (ipykernel)",
   "language": "python",
   "name": "python3"
  },
  "language_info": {
   "codemirror_mode": {
    "name": "ipython",
    "version": 3
   },
   "file_extension": ".py",
   "mimetype": "text/x-python",
   "name": "python",
   "nbconvert_exporter": "python",
   "pygments_lexer": "ipython3",
   "version": "3.9.12"
  }
 },
 "nbformat": 4,
 "nbformat_minor": 5
}

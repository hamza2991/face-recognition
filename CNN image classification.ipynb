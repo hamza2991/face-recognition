{
 "cells": [
  {
   "cell_type": "code",
   "execution_count": 1,
   "id": "03bbd0e4-25eb-42cf-8b55-dd556eada1ec",
   "metadata": {},
   "outputs": [],
   "source": [
    "import tensorflow as tf\n",
    "from tensorflow.keras import datasets, layers, models\n",
    "import matplotlib.pyplot as plt\n",
    "import numpy as np"
   ]
  },
  {
   "cell_type": "code",
   "execution_count": 3,
   "id": "612bcd68-6292-4c79-a5c4-67143b0970d8",
   "metadata": {},
   "outputs": [],
   "source": [
    "import ssl\n",
    "ssl._create_default_https_context = ssl._create_unverified_context"
   ]
  },
  {
   "cell_type": "code",
   "execution_count": 4,
   "id": "2244304a-57c6-4e28-9884-bf212a8d78cf",
   "metadata": {},
   "outputs": [
    {
     "name": "stdout",
     "output_type": "stream",
     "text": [
      "Downloading data from https://www.cs.toronto.edu/~kriz/cifar-10-python.tar.gz\n",
      "170498071/170498071 [==============================] - 84s 0us/step\n"
     ]
    },
    {
     "data": {
      "text/plain": [
       "(50000, 32, 32, 3)"
      ]
     },
     "execution_count": 4,
     "metadata": {},
     "output_type": "execute_result"
    }
   ],
   "source": [
    "(X_train, y_train), (X_test,y_test) = datasets.cifar10.load_data()\n",
    "X_train.shape"
   ]
  },
  {
   "cell_type": "code",
   "execution_count": 5,
   "id": "15fd0932-9ae1-4252-86a0-5c78b44f4604",
   "metadata": {},
   "outputs": [
    {
     "data": {
      "text/plain": [
       "(50000, 1)"
      ]
     },
     "execution_count": 5,
     "metadata": {},
     "output_type": "execute_result"
    }
   ],
   "source": [
    "y_train.shape"
   ]
  },
  {
   "cell_type": "code",
   "execution_count": 20,
   "id": "559cf7e1-8077-4838-9178-98b671cc2665",
   "metadata": {},
   "outputs": [],
   "source": [
    "def img(x):\n",
    "    plt.imshow(X_train[x])\n",
    "    plt. xlabel(classes[y_train[x]])"
   ]
  },
  {
   "cell_type": "code",
   "execution_count": 11,
   "id": "7593e789-3cae-46b1-97ff-c8612381b226",
   "metadata": {},
   "outputs": [
    {
     "data": {
      "text/plain": [
       "array([0, 1, 2, 3, 4, 5, 6, 7, 8, 9], dtype=uint8)"
      ]
     },
     "execution_count": 11,
     "metadata": {},
     "output_type": "execute_result"
    }
   ],
   "source": [
    "np.unique(y_train)"
   ]
  },
  {
   "cell_type": "code",
   "execution_count": 12,
   "id": "bf8aaf85-9763-491e-888c-4cc432deaa21",
   "metadata": {},
   "outputs": [],
   "source": [
    "classes = [\"airplane\",\"automobile\",\"bird\",\"cat\",\"deer\",\"dog\",\"frog\",\"horse\",\"ship\",\"truck\"]"
   ]
  },
  {
   "cell_type": "code",
   "execution_count": 28,
   "id": "c8645fc5-ee77-46b4-a5bb-c94c970aacfd",
   "metadata": {},
   "outputs": [],
   "source": [
    "y_train = y_train.reshape(-1)   #2D to 1D  .... flatten matrix"
   ]
  },
  {
   "cell_type": "code",
   "execution_count": 29,
   "id": "f29390c8-4c76-4072-941d-0c03c4e6e6d5",
   "metadata": {},
   "outputs": [
    {
     "data": {
      "text/plain": [
       "array([6, 9, 9, 4, 1], dtype=uint8)"
      ]
     },
     "execution_count": 29,
     "metadata": {},
     "output_type": "execute_result"
    }
   ],
   "source": [
    "y_train[:5]"
   ]
  },
  {
   "cell_type": "code",
   "execution_count": 30,
   "id": "db27f9b0-271d-47c4-8b46-8402d26d3a35",
   "metadata": {},
   "outputs": [
    {
     "data": {
      "image/png": "[encoded data removed]",
      "text/plain": [
       "<Figure size 432x288 with 1 Axes>"
      ]
     },
     "metadata": {
      "needs_background": "light"
     },
     "output_type": "display_data"
    }
   ],
   "source": [
    "img(0)"
   ]
  },
  {
   "cell_type": "code",
   "execution_count": 31,
   "id": "1103f548-fcd1-4fed-ba89-86691b3d9e49",
   "metadata": {},
   "outputs": [],
   "source": [
    "X_train = X_train / 255.0\n",
    "X_test = X_test / 255.0"
   ]
  },
  {
   "cell_type": "code",
   "execution_count": 32,
   "id": "992a4f9c-d5b4-4768-aead-9ff4742e3b89",
   "metadata": {},
   "outputs": [
    {
     "data": {
      "text/plain": [
       "(50000, 32, 32, 3)"
      ]
     },
     "execution_count": 32,
     "metadata": {},
     "output_type": "execute_result"
    }
   ],
   "source": [
    "X_train.shape"
   ]
  },
  {
   "cell_type": "code",
   "execution_count": 38,
   "id": "2d2fb4f2-adef-497f-9c3a-a240f6618a52",
   "metadata": {},
   "outputs": [
    {
     "name": "stdout",
     "output_type": "stream",
     "text": [
      "Epoch 1/5\n",
      "1563/1563 [==============================] - 72s 45ms/step - loss: 1.8326 - accuracy: 0.3522\n",
      "Epoch 2/5\n",
      "1563/1563 [==============================] - 69s 44ms/step - loss: 1.6518 - accuracy: 0.4189\n",
      "Epoch 3/5\n",
      "1563/1563 [==============================] - 75s 48ms/step - loss: 1.5736 - accuracy: 0.4502\n",
      "Epoch 4/5\n",
      "1563/1563 [==============================] - 73s 46ms/step - loss: 1.5198 - accuracy: 0.4701\n",
      "Epoch 5/5\n",
      "1563/1563 [==============================] - 71s 45ms/step - loss: 1.4776 - accuracy: 0.4840\n"
     ]
    },
    {
     "data": {
      "text/plain": [
       "<keras.callbacks.History at 0x1a2e5dee790>"
      ]
     },
     "execution_count": 38,
     "metadata": {},
     "output_type": "execute_result"
    }
   ],
   "source": [
    "ann = models.Sequential([\n",
    "        layers.Flatten(),\n",
    "        layers.Dense(3000, activation = 'relu'),\n",
    "        layers.Dense(10, activation='softmax')])   #non binary  output\n",
    "\n",
    "ann.compile (optimizer= 'SGD' , loss= 'sparse_categorical_crossentropy' , metrics= ['accuracy'] ) #loss = y is value not categorical vector\n",
    "\n",
    "ann.fit (X_train, y_train, epochs=5)"
   ]
  },
  {
   "cell_type": "code",
   "execution_count": 42,
   "id": "4cdb5880-74ec-4596-ba30-a59241f39333",
   "metadata": {},
   "outputs": [
    {
     "name": "stdout",
     "output_type": "stream",
     "text": [
      "313/313 [==============================] - 4s 12ms/step\n"
     ]
    }
   ],
   "source": [
    "y_pred = ann.predict(X_test)"
   ]
  },
  {
   "cell_type": "code",
   "execution_count": 45,
   "id": "948f0cac-0365-462e-be22-622ddb1b00e7",
   "metadata": {},
   "outputs": [
    {
     "data": {
      "text/plain": [
       "array([0.0307172 , 0.11974428, 0.04468947, 0.2418017 , 0.02881867,\n",
       "       0.11384286, 0.2657772 , 0.00339444, 0.14129665, 0.00991754],\n",
       "      dtype=float32)"
      ]
     },
     "execution_count": 45,
     "metadata": {},
     "output_type": "execute_result"
    }
   ],
   "source": [
    "y_pred[0]"
   ]
  },
  {
   "cell_type": "code",
   "execution_count": 46,
   "id": "527859ad-bf85-4518-8cca-15510fd071a9",
   "metadata": {},
   "outputs": [],
   "source": [
    "y_pred_classes = [np.argmax(element) for element in y_pred]   #index of max probability comparable to y_test values"
   ]
  },
  {
   "cell_type": "code",
   "execution_count": 47,
   "id": "6d594109-fe9b-4a10-81dd-f3bb46e21496",
   "metadata": {},
   "outputs": [
    {
     "name": "stdout",
     "output_type": "stream",
     "text": [
      "              precision    recall  f1-score   support\n",
      "\n",
      "           0       0.50      0.50      0.50      1000\n",
      "           1       0.56      0.61      0.59      1000\n",
      "           2       0.46      0.20      0.28      1000\n",
      "           3       0.37      0.28      0.32      1000\n",
      "           4       0.45      0.40      0.42      1000\n",
      "           5       0.44      0.30      0.35      1000\n",
      "           6       0.40      0.72      0.52      1000\n",
      "           7       0.63      0.43      0.51      1000\n",
      "           8       0.50      0.73      0.59      1000\n",
      "           9       0.49      0.60      0.54      1000\n",
      "\n",
      "    accuracy                           0.48     10000\n",
      "   macro avg       0.48      0.48      0.46     10000\n",
      "weighted avg       0.48      0.48      0.46     10000\n",
      "\n"
     ]
    }
   ],
   "source": [
    "from sklearn.metrics import confusion_matrix , classification_report\n",
    "import numpy as np\n",
    "\n",
    "print (classification_report(y_test, y_pred_classes))"
   ]
  },
  {
   "cell_type": "code",
   "execution_count": 49,
   "id": "fceab67e-f52d-4a65-b2fe-8322ea9e6217",
   "metadata": {},
   "outputs": [
    {
     "name": "stdout",
     "output_type": "stream",
     "text": [
      "313/313 [==============================] - 4s 11ms/step - loss: 1.4892 - accuracy: 0.4772\n"
     ]
    },
    {
     "data": {
      "text/plain": [
       "[1.4891597032546997, 0.4772000014781952]"
      ]
     },
     "execution_count": 49,
     "metadata": {},
     "output_type": "execute_result"
    }
   ],
   "source": [
    "ann.evaluate(X_test, y_test)"
   ]
  },
  {
   "cell_type": "code",
   "execution_count": 48,
   "id": "b46fec8a-9d5c-4364-a4c8-55670f627fac",
   "metadata": {},
   "outputs": [
    {
     "name": "stdout",
     "output_type": "stream",
     "text": [
      "Epoch 1/5\n",
      "1563/1563 [==============================] - 356s 227ms/step - loss: 1.3686 - accuracy: 0.5120\n",
      "Epoch 2/5\n",
      "1563/1563 [==============================] - 345s 221ms/step - loss: 0.9912 - accuracy: 0.6501\n",
      "Epoch 3/5\n",
      "1563/1563 [==============================] - 340s 217ms/step - loss: 0.7665 - accuracy: 0.7314\n",
      "Epoch 4/5\n",
      "1563/1563 [==============================] - 336s 215ms/step - loss: 0.5493 - accuracy: 0.8087\n",
      "Epoch 5/5\n",
      "1563/1563 [==============================] - 329s 211ms/step - loss: 0.3528 - accuracy: 0.8808\n"
     ]
    },
    {
     "data": {
      "text/plain": [
       "<keras.callbacks.History at 0x1a2e80ab580>"
      ]
     },
     "execution_count": 48,
     "metadata": {},
     "output_type": "execute_result"
    }
   ],
   "source": [
    "#filter = amount of patterns to be found\n",
    "#kernel_size = filter size to be multipled = 3x3 matrix\n",
    "#maxpooling = select max from 2x2 matrix\n",
    "\n",
    "cnn = models.Sequential([\n",
    "    layers.Conv2D(filters=32, kernel_size=(3, 3), activation='relu', input_shape=(32, 32, 3)),\n",
    "    layers.MaxPooling2D((2, 2)),\n",
    "    layers.Flatten(),\n",
    "    layers.Dense(3000, activation = 'relu'),\n",
    "    layers.Dense(10, activation='softmax')])\n",
    "\n",
    "\n",
    "cnn.compile(optimizer='adam',\n",
    "              loss='sparse_categorical_crossentropy',\n",
    "              metrics=['accuracy'])\n",
    "\n",
    "cnn.fit(X_train, y_train, epochs=5)"
   ]
  },
  {
   "cell_type": "code",
   "execution_count": 50,
   "id": "956241f9-4a77-4ffc-b9be-44b293161aab",
   "metadata": {},
   "outputs": [
    {
     "name": "stdout",
     "output_type": "stream",
     "text": [
      "313/313 [==============================] - 9s 28ms/step\n",
      "              precision    recall  f1-score   support\n",
      "\n",
      "           0       0.65      0.79      0.71      1000\n",
      "           1       0.77      0.82      0.79      1000\n",
      "           2       0.58      0.49      0.53      1000\n",
      "           3       0.48      0.48      0.48      1000\n",
      "           4       0.64      0.55      0.59      1000\n",
      "           5       0.54      0.59      0.57      1000\n",
      "           6       0.67      0.78      0.72      1000\n",
      "           7       0.74      0.75      0.74      1000\n",
      "           8       0.81      0.77      0.79      1000\n",
      "           9       0.83      0.66      0.74      1000\n",
      "\n",
      "    accuracy                           0.67     10000\n",
      "   macro avg       0.67      0.67      0.67     10000\n",
      "weighted avg       0.67      0.67      0.67     10000\n",
      "\n"
     ]
    }
   ],
   "source": [
    "y_pred_cnn = [np.argmax(i) for i in cnn.predict(X_test)]\n",
    "print (classification_report(y_test, y_pred_cnn))"
   ]
  },
  {
   "cell_type": "code",
   "execution_count": null,
   "id": "11204c12-9e1b-4551-beb1-25b78611f7e8",
   "metadata": {},
   "outputs": [],
   "source": []
  }
 ],
 "metadata": {
  "kernelspec": {
   "display_name": "Python 3 (ipykernel)",
   "language": "python",
   "name": "python3"
  },
  "language_info": {
   "codemirror_mode": {
    "name": "ipython",
    "version": 3
   },
   "file_extension": ".py",
   "mimetype": "text/x-python",
   "name": "python",
   "nbconvert_exporter": "python",
   "pygments_lexer": "ipython3",
   "version": "3.9.12"
  }
 },
 "nbformat": 4,
 "nbformat_minor": 5
}
